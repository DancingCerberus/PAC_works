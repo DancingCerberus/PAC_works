{
 "cells": [
  {
   "cell_type": "code",
   "execution_count": 16,
   "id": "initial_id",
   "metadata": {
    "collapsed": true,
    "ExecuteTime": {
     "end_time": "2023-12-22T20:50:56.887754500Z",
     "start_time": "2023-12-22T20:50:56.878848400Z"
    }
   },
   "outputs": [],
   "source": [
    "import numpy as np\n",
    "\n",
    "\n",
    "class Neuron:\n",
    "    def __init__(self, size):\n",
    "        self._weights = np.random.rand(size)\n",
    "        self._previous_changes = [0, 0]\n",
    "        self._input = 0\n",
    "        self._output = 0\n",
    "\n",
    "    def forward(self, x):\n",
    "        self._input = x\n",
    "        linear_input = np.dot(x, self._weights)\n",
    "        self._output = self._sigmoid(linear_input)\n",
    "        return self._output\n",
    "\n",
    "    def backward(self, x, loss, epsilon=0.5, alpha=0.2):\n",
    "        sigmoid_der = self._output * (1 - self._output)\n",
    "        delta = loss * sigmoid_der\n",
    "        losses = []\n",
    "        for i in range(len(self._weights)):\n",
    "            grad = self._input[i] * delta\n",
    "            delta_w = epsilon * grad + alpha * self._previous_changes[i]\n",
    "            self._previous_changes[i] = delta_w\n",
    "            self._weights[i] += delta_w[0]\n",
    "            losses.append(self._weights[i] * delta)\n",
    "        return losses\n",
    "\n",
    "    @staticmethod\n",
    "    def _sigmoid(x):\n",
    "        return 1 / (1 + np.exp(-x))"
   ]
  },
  {
   "cell_type": "code",
   "execution_count": 17,
   "outputs": [],
   "source": [
    "class Model:\n",
    "    def __init__(self):\n",
    "        self.hidden_1 = Neuron(2)\n",
    "        self.hidden_2 = Neuron(2)\n",
    "        self.out = Neuron(2)\n",
    "\n",
    "    def forward(self, x):\n",
    "        h1_out = self.hidden_1.forward(x)\n",
    "        h2_out = self.hidden_2.forward(x)\n",
    "        output = self.out.forward([h1_out, h2_out])\n",
    "        return output\n",
    "\n",
    "    def backward(self, x, loss):\n",
    "        losses = self.out.backward(x, loss)\n",
    "        self.hidden_1.backward(x, losses[0])\n",
    "        self.hidden_2.backward(x, losses[1])\n",
    "\n",
    "    def train(self, data, labels, epochs):\n",
    "        for epoch in range(epochs):\n",
    "            for itr in range(len(data)):\n",
    "                y = self.forward(data[itr])\n",
    "                self.backward(data[itr], labels[itr] - y)\n",
    "\n",
    "    def check_error(self, data, labels):\n",
    "        y = []\n",
    "        for x in data:\n",
    "            y.append(self.forward(x))\n",
    "        print('Error:', self._err(labels, y, 4))\n",
    "\n",
    "    @staticmethod\n",
    "    def _err(ideal, actual, count):\n",
    "        res = 0\n",
    "        for i in range(count):\n",
    "            res += (ideal[i][0] - actual[i]) ** 2\n",
    "        return res / count"
   ],
   "metadata": {
    "collapsed": false,
    "ExecuteTime": {
     "end_time": "2023-12-22T20:50:58.432584400Z",
     "start_time": "2023-12-22T20:50:58.423244900Z"
    }
   },
   "id": "d1653eb6789e6b"
  },
  {
   "cell_type": "code",
   "execution_count": 20,
   "outputs": [
    {
     "name": "stdout",
     "output_type": "stream",
     "text": [
      "Error: 0.0012425590235285245\n"
     ]
    }
   ],
   "source": [
    "model = Model()\n",
    "data = [[0, 0], [0, 1], [1, 0], [1, 1]]\n",
    "labels = [[0], [1], [1], [0]]\n",
    "model.train(data, labels, 50000)\n",
    "model.check_error(data, labels)"
   ],
   "metadata": {
    "collapsed": false,
    "ExecuteTime": {
     "end_time": "2023-12-22T20:52:05.083621Z",
     "start_time": "2023-12-22T20:51:55.948243300Z"
    }
   },
   "id": "69b31ab03dcb1fcb"
  }
 ],
 "metadata": {
  "kernelspec": {
   "display_name": "Python 3",
   "language": "python",
   "name": "python3"
  },
  "language_info": {
   "codemirror_mode": {
    "name": "ipython",
    "version": 2
   },
   "file_extension": ".py",
   "mimetype": "text/x-python",
   "name": "python",
   "nbconvert_exporter": "python",
   "pygments_lexer": "ipython2",
   "version": "2.7.6"
  }
 },
 "nbformat": 4,
 "nbformat_minor": 5
}
