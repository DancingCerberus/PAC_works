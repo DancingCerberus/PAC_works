{
 "cells": [
  {
   "cell_type": "markdown",
   "source": [],
   "metadata": {
    "collapsed": false
   },
   "id": "5be8060e3482c845"
  },
  {
   "cell_type": "code",
   "execution_count": 17,
   "outputs": [
    {
     "name": "stdout",
     "output_type": "stream",
     "text": [
      "Downloading http://yann.lecun.com/exdb/mnist/train-images-idx3-ubyte.gz\n",
      "Downloading http://yann.lecun.com/exdb/mnist/train-images-idx3-ubyte.gz to ./MNIST/test\\MNIST\\raw\\train-images-idx3-ubyte.gz\n"
     ]
    },
    {
     "name": "stderr",
     "output_type": "stream",
     "text": [
      "100.0%\n"
     ]
    },
    {
     "name": "stdout",
     "output_type": "stream",
     "text": [
      "Extracting ./MNIST/test\\MNIST\\raw\\train-images-idx3-ubyte.gz to ./MNIST/test\\MNIST\\raw\n",
      "\n",
      "Downloading http://yann.lecun.com/exdb/mnist/train-labels-idx1-ubyte.gz\n",
      "Downloading http://yann.lecun.com/exdb/mnist/train-labels-idx1-ubyte.gz to ./MNIST/test\\MNIST\\raw\\train-labels-idx1-ubyte.gz\n"
     ]
    },
    {
     "name": "stderr",
     "output_type": "stream",
     "text": [
      "100.0%\n"
     ]
    },
    {
     "name": "stdout",
     "output_type": "stream",
     "text": [
      "Extracting ./MNIST/test\\MNIST\\raw\\train-labels-idx1-ubyte.gz to ./MNIST/test\\MNIST\\raw\n",
      "\n",
      "Downloading http://yann.lecun.com/exdb/mnist/t10k-images-idx3-ubyte.gz\n",
      "Downloading http://yann.lecun.com/exdb/mnist/t10k-images-idx3-ubyte.gz to ./MNIST/test\\MNIST\\raw\\t10k-images-idx3-ubyte.gz\n"
     ]
    },
    {
     "name": "stderr",
     "output_type": "stream",
     "text": [
      "100.0%\n"
     ]
    },
    {
     "name": "stdout",
     "output_type": "stream",
     "text": [
      "Extracting ./MNIST/test\\MNIST\\raw\\t10k-images-idx3-ubyte.gz to ./MNIST/test\\MNIST\\raw\n",
      "\n",
      "Downloading http://yann.lecun.com/exdb/mnist/t10k-labels-idx1-ubyte.gz\n",
      "Downloading http://yann.lecun.com/exdb/mnist/t10k-labels-idx1-ubyte.gz to ./MNIST/test\\MNIST\\raw\\t10k-labels-idx1-ubyte.gz\n"
     ]
    },
    {
     "name": "stderr",
     "output_type": "stream",
     "text": [
      "100.0%"
     ]
    },
    {
     "name": "stdout",
     "output_type": "stream",
     "text": [
      "Extracting ./MNIST/test\\MNIST\\raw\\t10k-labels-idx1-ubyte.gz to ./MNIST/test\\MNIST\\raw\n"
     ]
    },
    {
     "name": "stderr",
     "output_type": "stream",
     "text": [
      "\n"
     ]
    }
   ],
   "source": [
    "import numpy as np\n",
    "import matplotlib.pyplot as plt\n",
    "import torchvision\n",
    "from sklearn.manifold import TSNE\n",
    "\n",
    "\n",
    "transform = torchvision.transforms.Compose([\n",
    "                    torchvision.transforms.ToTensor(),\n",
    "                    torchvision.transforms.Normalize(0.5, 0.5)])\n",
    "\n",
    "train_dataset = torchvision.datasets.MNIST(\n",
    "    root=\"./MNIST/train\", train=True,\n",
    "    transform=torchvision.transforms.ToTensor(),\n",
    "    download=True)\n",
    "\n",
    "test_dataset = torchvision.datasets.MNIST(\n",
    "    root=\"./MNIST/test\", train=False,\n",
    "    transform=torchvision.transforms.ToTensor(),\n",
    "    download=True)\n",
    "\n",
    "\n",
    "def encode_label(j):\n",
    "    e = np.zeros((10, 1))\n",
    "    e[j] = 1.0\n",
    "    return e\n",
    "\n",
    "\n",
    "def shape_data(data):\n",
    "    features = [np.reshape(x[0][0].numpy(), (784, 1)) for x in data]\n",
    "    labels = [encode_label(y[1]) for y in data]\n",
    "    return zip(features, labels)\n",
    "\n",
    "\n",
    "def average_digit(data, digit):\n",
    "    filtered_data = [x[0] for x in data if np.argmax(x[1]) == digit]\n",
    "    filtered_array = np.asarray(filtered_data)\n",
    "    return np.average(filtered_array, axis=0)\n",
    "\n",
    "\n",
    "def classifier(digit, num):\n",
    "    b = [68, 49, 50, 57, 52, 49, 60, 55, 53, 68]\n",
    "    w = np.transpose(avg_digits[num])\n",
    "    res = np.dot(w, digit) - b[num]\n",
    "    return res >= 0\n",
    "\n",
    "\n",
    "def check_accuracy():\n",
    "    true = np.zeros(10)\n",
    "    t = np.zeros[10]\n",
    "    for digit in train:\n",
    "        for i in range(10):\n",
    "            t[i] = classifier(digit[0], i)\n",
    "            \n",
    "            if t[i] == 1 and (np.where(digit[1] == 1)[0][0] == 0) or (t[i] == 0 and (np.where(digit[1] == 1))[0][0] != 0):\n",
    "                true[i] += 1\n",
    "    \n",
    "    for i in range(10):    \n",
    "        print(f'Classifier_{i} accuracy: ', round(true[i] / 600), 2)\n",
    "\n",
    "def model(digit):\n",
    "    res = []\n",
    "    for i in range(10):\n",
    "        if classifier(digit, i):\n",
    "            res += [1] + (9 - i) * [0]\n",
    "            return res\n",
    "        else:\n",
    "            res.append(0)\n",
    "    return res\n",
    "\n",
    "def checkModel():\n",
    "    tp, fp, fn = 0, 0, 0\n",
    "    for dig in test_dataset:\n",
    "        pred = model(dig[0])\n",
    "        if np.where(dig[1] == 1) == pred.index(1):\n",
    "            tp += 1"
   ],
   "metadata": {
    "collapsed": false,
    "ExecuteTime": {
     "end_time": "2023-12-18T06:49:56.007446700Z",
     "start_time": "2023-12-18T06:49:10.222264100Z"
    }
   },
   "id": "42a59c6fbf5d1eb3"
  },
  {
   "cell_type": "code",
   "execution_count": 18,
   "outputs": [
    {
     "name": "stdout",
     "output_type": "stream",
     "text": [
      "[[1 0 0 ... 0 0 0]\n",
      " [0 0 0 ... 0 0 0]\n",
      " [0 0 0 ... 0 0 0]\n",
      " ...\n",
      " [0 0 0 ... 0 0 0]\n",
      " [0 0 0 ... 0 0 0]\n",
      " [0 0 0 ... 0 0 0]]\n"
     ]
    },
    {
     "data": {
      "text/plain": "<Figure size 1000x1000 with 1 Axes>",
      "image/png": "[encoded data removed]"
     },
     "metadata": {},
     "output_type": "display_data"
    }
   ],
   "source": [
    "train = shape_data(train_dataset)\n",
    "train = list(train)\n",
    "test = shape_data(test_dataset)\n",
    "test = list(test)\n",
    "\n",
    "avg_digits = []\n",
    "for i in range(10):\n",
    "    t = average_digit(train, i)\n",
    "    avg_digits.append(t)\n",
    "    \n",
    "k = 100\n",
    "temp = 10 * [k]\n",
    "arr = [[] for i in range(10)]\n",
    "i = 0\n",
    "while True:\n",
    "    id = np.where(test[i][1] == 1)[0][0]\n",
    "    if temp[id] > 0:\n",
    "        arr[id].append(model(test[i][0]))\n",
    "        temp[id] -= 1\n",
    "    if sum(temp) == 0:\n",
    "        arr = arr[0] + arr[1] + arr[2] + arr[3] + arr[4] + arr[5] + arr[6] + arr[7] + arr[8] + arr[9]\n",
    "        arr = np.array(arr)\n",
    "        print(arr)\n",
    "        break\n",
    "    i += 1\n",
    "\n",
    "colors = [\"#ADFF2F\", \"#00BFFF\", \"#F08080\", \"#FFC0CB\", \"#00FFFF\", \"#FF4500\", \"#FFA500\", \"#EE82EE\", \"#FFFF00\", \"#00FF7F\"]\n",
    "model = TSNE(n_components=2)\n",
    "squeezed = model.fit_transform(arr)\n",
    "plt.figure(figsize=(10, 10))\n",
    "for i in range(10):\n",
    "    plt.scatter([x[0] for x in squeezed[k*i:k*(i+1)]],\n",
    "                [x[1] for x in squeezed[k*i:k*(i+1)]],\n",
    "                color=colors[i], label=str(i))\n",
    "plt.legend()\n",
    "plt.show()"
   ],
   "metadata": {
    "collapsed": false,
    "ExecuteTime": {
     "end_time": "2023-12-18T06:50:36.586207800Z",
     "start_time": "2023-12-18T06:50:21.238392Z"
    }
   },
   "id": "2792b024830406e"
  }
 ],
 "metadata": {
  "kernelspec": {
   "display_name": "Python 3",
   "language": "python",
   "name": "python3"
  },
  "language_info": {
   "codemirror_mode": {
    "name": "ipython",
    "version": 2
   },
   "file_extension": ".py",
   "mimetype": "text/x-python",
   "name": "python",
   "nbconvert_exporter": "python",
   "pygments_lexer": "ipython2",
   "version": "2.7.6"
  }
 },
 "nbformat": 4,
 "nbformat_minor": 5
}
