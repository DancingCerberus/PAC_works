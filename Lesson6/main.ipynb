{
 "cells": [
  {
   "cell_type": "code",
   "execution_count": null,
   "id": "initial_id",
   "metadata": {
    "collapsed": true,
    "ExecuteTime": {
     "end_time": "2023-11-13T09:55:40.811428800Z",
     "start_time": "2023-11-13T09:55:36.507737900Z"
    }
   },
   "outputs": [
    {
     "name": "stderr",
     "output_type": "stream",
     "text": [
      "Could not connect to 127.0.0.1: 55096\n",
      "Traceback (most recent call last):\n",
      "  File \"C:\\Users\\Eduard\\AppData\\Local\\Programs\\PyCharm Professional\\plugins\\python\\helpers\\pydev\\_pydevd_bundle\\pydevd_comm.py\", line 463, in start_client\n",
      "    s.connect((host, port))\n",
      "ConnectionRefusedError: [WinError 10061] Подключение не установлено, т.к. конечный компьютер отверг запрос на подключение\n",
      "Traceback (most recent call last):\n",
      "  File \"C:\\Users\\Eduard\\AppData\\Local\\Programs\\PyCharm Professional\\plugins\\python\\helpers-pro\\jupyter_debug\\pydev_jupyter_utils.py\", line 81, in attach_to_debugger\n",
      "    debugger.connect(pydev_localhost.get_localhost(), debugger_port)\n",
      "  File \"C:\\Users\\Eduard\\AppData\\Local\\Programs\\PyCharm Professional\\plugins\\python\\helpers\\pydev\\pydevd.py\", line 660, in connect\n",
      "    s = start_client(host, port)\n",
      "  File \"C:\\Users\\Eduard\\AppData\\Local\\Programs\\PyCharm Professional\\plugins\\python\\helpers\\pydev\\_pydevd_bundle\\pydevd_comm.py\", line 463, in start_client\n",
      "    s.connect((host, port))\n",
      "ConnectionRefusedError: [WinError 10061] Подключение не установлено, т.к. конечный компьютер отверг запрос на подключение\n",
      "Failed to connect to target debugger.\n"
     ]
    }
   ],
   "source": [
    "import os\n",
    "\n",
    "import matplotlib.pyplot as plt\n",
    "\n",
    "images_folder = \"nails_segmentation/images\"\n",
    "labels_folder = \"nails_segmentation/labels\"\n",
    "\n",
    "image_files = os.listdir(images_folder)\n",
    "label_files = os.listdir(labels_folder)\n",
    "\n",
    "image_label_pairs = [(os.path.join(images_folder, img), os.path.join(labels_folder, lbl))\n",
    "                     for img, lbl in zip(image_files, label_files)]\n",
    "\n",
    "import cv2\n",
    "\n",
    "cv2.namedWindow(\"Image and Mask\", cv2.WINDOW_NORMAL)\n",
    "\n",
    "for image_file, label_file in image_label_pairs:\n",
    "    image = cv2.imread(image_file)\n",
    "    mask = cv2.imread(label_file)\n",
    "\n",
    "    cv2.imshow(\"Image and Mask\", image)\n",
    "    cv2.imshow(\"Mask\", mask)\n",
    "\n",
    "    key = cv2.waitKey(0)\n",
    "\n",
    "    if key == ord('q'):\n",
    "        break\n",
    "\n",
    "cv2.destroyAllWindows()\n",
    "\n",
    "for image_file, label_file in image_label_pairs:\n",
    "    image = cv2.imread(image_file)\n",
    "    mask = cv2.imread(label_file)\n",
    "\n",
    "    gray_mask = cv2.cvtColor(mask, cv2.COLOR_BGR2GRAY)\n",
    "\n",
    "    # Бинаризация\n",
    "    _, thresh = cv2.threshold(gray_mask, 200, 255, cv2.THRESH_BINARY)\n",
    "    plt.imshow(thresh, cmap='gray')\n",
    "    plt.show()\n",
    "\n",
    "    # Поиск контуров\n",
    "    contours, hierarchy = cv2.findContours(thresh, cv2.RETR_TREE, cv2.CHAIN_APPROX_SIMPLE)\n",
    "    print(len(contours), contours[2])\n",
    "\n",
    "    contours, _ = cv2.findContours(thresh, cv2.RETR_TREE, cv2.CHAIN_APPROX_SIMPLE)\n",
    "\n",
    "    image_with_contours = image.copy()\n",
    "    cv2.drawContours(image_with_contours, contours, -1, (0, 255, 0), 2)\n",
    "\n",
    "    cv2.imshow(\"Image with Contours\", image_with_contours)\n",
    "\n",
    "    key = cv2.waitKey(0)\n",
    "\n",
    "    if key == 27:\n",
    "        break\n",
    "\n",
    "cv2.destroyAllWindows()\n"
   ]
  },
  {
   "cell_type": "code",
   "execution_count": 18,
   "outputs": [],
   "source": [
    "video_file = \"lose10.mp4\"\n",
    "\n",
    "cap = cv2.VideoCapture(video_file)\n",
    "\n",
    "while True:\n",
    "    ret, frame = cap.read()\n",
    "\n",
    "    if not ret:\n",
    "        break\n",
    "\n",
    "    gray_frame = cv2.cvtColor(frame, cv2.COLOR_BGR2GRAY)\n",
    "\n",
    "    cv2.imshow(\"Gray Video\", gray_frame)\n",
    "\n",
    "    key = cv2.waitKey(30)\n",
    "\n",
    "    if key == 27:\n",
    "        break\n",
    "\n",
    "cap.release()\n",
    "cv2.destroyAllWindows()"
   ],
   "metadata": {
    "collapsed": false,
    "ExecuteTime": {
     "end_time": "2023-10-09T06:26:34.512626500Z",
     "start_time": "2023-10-09T06:26:29.925114400Z"
    }
   },
   "id": "fdd14481de1ac8ca"
  },
  {
   "cell_type": "code",
   "execution_count": null,
   "outputs": [],
   "source": [],
   "metadata": {
    "collapsed": false
   },
   "id": "31505570f4db9224"
  }
 ],
 "metadata": {
  "kernelspec": {
   "display_name": "Python 3",
   "language": "python",
   "name": "python3"
  },
  "language_info": {
   "codemirror_mode": {
    "name": "ipython",
    "version": 2
   },
   "file_extension": ".py",
   "mimetype": "text/x-python",
   "name": "python",
   "nbconvert_exporter": "python",
   "pygments_lexer": "ipython2",
   "version": "2.7.6"
  }
 },
 "nbformat": 4,
 "nbformat_minor": 5
}
