{
 "cells": [
  {
   "cell_type": "code",
   "execution_count": 2,
   "id": "initial_id",
   "metadata": {
    "collapsed": true,
    "ExecuteTime": {
     "end_time": "2023-10-19T12:28:38.346089700Z",
     "start_time": "2023-10-19T12:27:19.762682Z"
    }
   },
   "outputs": [],
   "source": [
    " import cv2\n",
    "import numpy as np\n",
    "\n",
    "cap = cv2.VideoCapture(0)\n",
    "\n",
    "prev_frame = None\n",
    "motion_detected = False\n",
    "timer = 0\n",
    "detect_motion = True\n",
    "\n",
    "while True:\n",
    "    ret, in_frame = cap.read()\n",
    "    if not ret:\n",
    "        break\n",
    "\n",
    "    frame = cv2.GaussianBlur(in_frame, (33, 33), 0)\n",
    "    gray_frame = cv2.cvtColor(frame, cv2.COLOR_BGR2GRAY)\n",
    "\n",
    "    if prev_frame is not None:\n",
    "        frame_diff = cv2.absdiff(prev_frame, gray_frame)\n",
    "\n",
    "        _, thresh = cv2.threshold(frame_diff, 25, 255, cv2.THRESH_BINARY)\n",
    "\n",
    "        contours, _ = cv2.findContours(thresh, cv2.RETR_EXTERNAL, cv2.CHAIN_APPROX_SIMPLE)\n",
    "\n",
    "        if len(contours) > 0:\n",
    "            motion_detected = True\n",
    "        else:\n",
    "            motion_detected = False\n",
    "\n",
    "    prev_frame = gray_frame\n",
    "\n",
    "    motion_map = np.zeros_like(frame)\n",
    "    motion_map[:] = (0, 255, 0)\n",
    "    if motion_detected:\n",
    "        motion_map[thresh > 0] = (0, 0, 255)\n",
    "\n",
    "    combined_frame = np.hstack((in_frame, motion_map))\n",
    "    cv2.imshow('Motion Detection', combined_frame)\n",
    "\n",
    "    key = cv2.waitKey(20) & 0xff\n",
    "    if key == 27:\n",
    "        break\n",
    "\n",
    "cv2.destroyWindow('Motion Detection')\n",
    "cap.release()\n",
    "\n"
   ]
  },
  {
   "cell_type": "code",
   "execution_count": null,
   "outputs": [],
   "source": [],
   "metadata": {
    "collapsed": false
   },
   "id": "5e544d0d2911b773"
  }
 ],
 "metadata": {
  "kernelspec": {
   "display_name": "Python 3",
   "language": "python",
   "name": "python3"
  },
  "language_info": {
   "codemirror_mode": {
    "name": "ipython",
    "version": 2
   },
   "file_extension": ".py",
   "mimetype": "text/x-python",
   "name": "python",
   "nbconvert_exporter": "python",
   "pygments_lexer": "ipython2",
   "version": "2.7.6"
  }
 },
 "nbformat": 4,
 "nbformat_minor": 5
}
