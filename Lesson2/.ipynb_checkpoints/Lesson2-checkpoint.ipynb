{
 "cells": [
  {
   "cell_type": "markdown",
   "id": "a003ca8f",
   "metadata": {},
   "source": [
    "1. ✔️ Вводится строка. Определить является ли она палиндромом и вывести соответствующее сообщение."
   ]
  },
  {
   "cell_type": "code",
   "execution_count": 8,
   "id": "5ef2f24a",
   "metadata": {},
   "outputs": [
    {
     "name": "stdout",
     "output_type": "stream",
     "text": [
      "13221\n",
      "False\n"
     ]
    }
   ],
   "source": [
    "def is_palindrome(string: str) -> bool:\n",
    "    return string == string[::-1]\n",
    "\n",
    "string = input()\n",
    "\n",
    "print(is_palindrome(string))\n",
    "\n"
   ]
  },
  {
   "cell_type": "markdown",
   "id": "69a2e5da",
   "metadata": {},
   "source": [
    "2. ✔️ В строке, состоящей из слов, разделенных пробелом, найти самое длинное слово."
   ]
  },
  {
   "cell_type": "code",
   "execution_count": 3,
   "id": "bf3fb14e",
   "metadata": {},
   "outputs": [
    {
     "name": "stdout",
     "output_type": "stream",
     "text": [
      "a bc def v \n",
      "def\n"
     ]
    }
   ],
   "source": [
    "def findLongestWord(string:str):\n",
    "    words = string.split(' ')\n",
    "    longestWord = max(words, key=len)\n",
    "    return longestWord\n",
    "  \n",
    "    \n",
    "string = input()    \n",
    "    \n",
    "print(findLongestWord(string))\n",
    "\n"
   ]
  },
  {
   "cell_type": "markdown",
   "id": "6ca8bb40",
   "metadata": {},
   "source": [
    "3. ✔️ Генерируется список случайных целых чисел. Определить, сколько в нем четных чисел, а сколько нечетных."
   ]
  },
  {
   "cell_type": "code",
   "execution_count": 20,
   "id": "0d6b3e9a",
   "metadata": {},
   "outputs": [
    {
     "name": "stdout",
     "output_type": "stream",
     "text": [
      "Задайте длину списка\n",
      "10\n",
      "[82, 78, 62, 24, 65, 24, 3, 89, 89, 88]\n",
      "В списке 6 чётных чисел и 4 нечётных чисел.\n"
     ]
    }
   ],
   "source": [
    "from random import *\n",
    "\n",
    "print('Задайте длину списка')\n",
    "n = int(input())\n",
    "\n",
    "random_numbers = [randint(0, 100) for i in range(n)]\n",
    "print(random_numbers)\n",
    "\n",
    "is_odd = list(map(lambda x: x % 2, random_numbers))\n",
    "\n",
    "even_count = is_odd.count(0)\n",
    "odd_count = is_odd.count(1)\n",
    "\n",
    "print(f'В списке {even_count} чётных чисел и {odd_count} нечётных чисел.')\n",
    "\n"
   ]
  },
  {
   "cell_type": "markdown",
   "id": "fdfde876",
   "metadata": {},
   "source": [
    "4. ✔️ Дан словарь, состоящий из пар слов. Каждое слово является синонимом к парному ему слову. Все слова в словаре различны. Заменить в строке все слова, входящие в словарь, как ключи, на их синонимы."
   ]
  },
  {
   "cell_type": "code",
   "execution_count": 19,
   "id": "78d9a5b2",
   "metadata": {},
   "outputs": [
    {
     "name": "stdout",
     "output_type": "stream",
     "text": [
      "pupils drop litter on the street\n",
      "students drop garbage on the street\n"
     ]
    }
   ],
   "source": [
    "synonyms = {'litter': 'garbage', 'pupil': 'student'}\n",
    "\n",
    "string = input()\n",
    "synonymous_string = string\n",
    "for key in synonyms:\n",
    "    synonymous_string = synonymous_string.replace(key, synonyms[key])\n",
    "    \n",
    "print(synonymous_string)\n",
    "\n"
   ]
  },
  {
   "cell_type": "markdown",
   "id": "c393d42b",
   "metadata": {},
   "source": [
    "5. ✔️ Напишите функцию fib(n), которая по данному целому неотрицательному n возвращает n-e число Фибоначчи. В этой задаче нельзя использовать циклы — используйте рекурсию."
   ]
  },
  {
   "cell_type": "code",
   "execution_count": 24,
   "id": "c66ab6ab",
   "metadata": {},
   "outputs": [
    {
     "data": {
      "text/plain": [
       "[0, 1, 1, 2, 3, 5, 8, 13, 21, 34, 55, 89, 144, 233, 377, 610, 987]"
      ]
     },
     "execution_count": 24,
     "metadata": {},
     "output_type": "execute_result"
    }
   ],
   "source": [
    "def fib(num:int):\n",
    "    if num < 2:\n",
    "        return num\n",
    "    return fib(num - 1) + fib(num - 2)\n",
    "\n",
    "[fib(n) for n in range(17)]\n",
    "\n"
   ]
  },
  {
   "cell_type": "markdown",
   "id": "19bd6cd3",
   "metadata": {},
   "source": [
    "6. ✔️ Сосчитайте количество строк, слов и букв в произвольном текстовом файле. (слова разделены пробелом, \\n не считается символом)"
   ]
  },
  {
   "cell_type": "code",
   "execution_count": 1,
   "id": "18b36a0f",
   "metadata": {},
   "outputs": [
    {
     "name": "stdout",
     "output_type": "stream",
     "text": [
      "3 5 31\n"
     ]
    }
   ],
   "source": [
    "f = open('file.txt', 'r')\n",
    "\n",
    "lines = 0\n",
    "words = 0\n",
    "symbols = 0\n",
    "\n",
    "for line in f:\n",
    "    lines += 1\n",
    "    words += len(line.split())\n",
    "    symbols += len(line) - line.count('\\n')\n",
    "\n",
    "f.close()\n",
    "\n",
    "print(lines, words, symbols)\n",
    "    \n"
   ]
  },
  {
   "cell_type": "markdown",
   "id": "1ea62a44",
   "metadata": {},
   "source": [
    "7. ✔️ Создайте генератор, выводящий бесконечную геометрическую прогрессию. Параметры прогрессии задаются через аргументы генератора"
   ]
  },
  {
   "cell_type": "code",
   "execution_count": 31,
   "id": "127d40e7",
   "metadata": {},
   "outputs": [
    {
     "name": "stdout",
     "output_type": "stream",
     "text": [
      "1\n",
      "0.5\n",
      "10\n",
      "[1.0, 0.5, 0.25, 0.125, 0.0625, 0.03125, 0.015625, 0.0078125, 0.00390625]\n"
     ]
    }
   ],
   "source": [
    "b1 = float(input())\n",
    "q = float(input())\n",
    "n = int(input())\n",
    "\n",
    "progression = [b1 * (q ** (i-1)) for i in range(1, n)]\n",
    "\n",
    "print(progression)\n",
    "\n"
   ]
  },
  {
   "cell_type": "markdown",
   "id": "5fb813fe",
   "metadata": {},
   "source": [
    "Лабораторная работа 2.1. Перемножение матриц\n",
    "Реализовать скрипт matrix_mult.py\n",
    "\n",
    "Входные параметры скрипта:\n",
    "\n",
    "Путь к файлу с матрицами. Например, matrix.txt. Внутри файла заданы две целочисленные матрицы.\n",
    "Путь к файлу с результатом работы программы\n",
    "Выходные значения: записывает результирующую матрицу в файл с результатом работы программы\n",
    "\n",
    "Что должен делать скрипт:\n",
    "\n",
    "Прочитать файл, используя встроенные функции Python для работы с файлами.\n",
    "Преобразовать прочитанные строки в матрицы. Матрицы реализовать используя стандартные типы данных Python. Например, список списков.\n",
    "Найти произведение полученных матриц.\n",
    "Записать результат произведения в выходной файл."
   ]
  },
  {
   "cell_type": "code",
   "execution_count": null,
   "id": "3a8f3dff",
   "metadata": {},
   "outputs": [],
   "source": [
    "input_file = open(matrix.txt)\n",
    "\n"
   ]
  }
 ],
 "metadata": {
  "kernelspec": {
   "display_name": "Python 3 (ipykernel)",
   "language": "python",
   "name": "python3"
  },
  "language_info": {
   "codemirror_mode": {
    "name": "ipython",
    "version": 3
   },
   "file_extension": ".py",
   "mimetype": "text/x-python",
   "name": "python",
   "nbconvert_exporter": "python",
   "pygments_lexer": "ipython3",
   "version": "3.11.4"
  }
 },
 "nbformat": 4,
 "nbformat_minor": 5
}
