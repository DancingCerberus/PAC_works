{
 "cells": [
  {
   "cell_type": "markdown",
   "source": [
    "Лабораторная 5.1\n",
    "1. Пол (sex): отфильтровать строки, где пол не указан, преобразовать оставшиеся в число 0/1;\n",
    "2. Номер ряда в зале (row_number): заполнить вместо NAN максимальным значением ряда;\n",
    "3. Количество выпитого в литрах (liters_drunk): отфильтровать отрицательные значения и нереально большие значения (выбросы). Вместо них заполнить средним."
   ],
   "metadata": {
    "collapsed": false
   },
   "id": "b71eb4b79bc8fa9d"
  },
  {
   "cell_type": "code",
   "execution_count": 76,
   "outputs": [
    {
     "name": "stdout",
     "output_type": "stream",
     "text": [
      "    sex  row_number  liters_drunk  age        drink  check_number  label\n",
      "0     1        79.0      2.000000   66         Cola          3116      0\n",
      "1     0        23.0      0.000000   10        Fanta          8118      0\n",
      "2     0        92.0      0.000000   18        Fanta          2264      1\n",
      "3     1        52.0      5.000000   67     Beerbeer          7640      1\n",
      "4     1        57.0      2.000000   27     Beerbeer          8764      0\n",
      "5     0        15.0      1.000000   44      Bugbeer          6235      0\n",
      "6     1        49.0      0.000000   11         Cola           185      1\n",
      "7     0        33.0      5.000000   64        Fanta          2970      1\n",
      "8     1         5.0      0.000000   39        Water          6494      0\n",
      "9     0        48.0      1.000000   64        Water          9971      1\n",
      "10    1        78.0      2.476708   51        Water          3592      0\n",
      "11    0        32.0      2.000000   35  Strong beer          2021      0\n",
      "12    1        12.0      3.000000   59         Cola          5675      1\n",
      "13    1        16.0      5.000000   77      Bugbeer          1637      0\n",
      "14    1        46.0      2.476708   37  Strong beer          7830      1\n",
      "15    1         4.0      3.000000   18         Cola          2174      1\n",
      "16    0       100.0      2.476708   15         Cola          2468      0\n",
      "17    1        40.0      3.000000   55        Water          8793      0\n",
      "18    0         9.0      4.000000   47      Bugbeer          6079      1\n",
      "19    0         8.0      4.000000   51        Fanta           839      1\n",
      "20    1        95.0      1.000000   71  Strong beer          1634      1\n",
      "21    0        70.0      2.476708   31        Fanta          7091      0\n",
      "22    0        52.0      3.000000   38        Fanta          6992      1\n",
      "23    1        44.0      4.000000   42  Strong beer          3258      1\n",
      "24    1         6.0      5.000000   63        Water          6664      0\n",
      "25    1        86.0      0.000000   55        Fanta          2104      1\n",
      "26    0        40.0      4.000000   46        Water          1784      1\n",
      "27    1        57.0      3.000000   22         Cola          2744      0\n",
      "28    1        82.0      5.000000   10        Water          4306      1\n",
      "29    0         4.0      2.000000   18        Water           814      0\n",
      "30    0        67.0      0.000000   40        Fanta          2285      0\n",
      "31    0        52.0      3.000000   50     Beerbeer          3395      0\n",
      "32    1        33.0      2.000000   60        Fanta          8192      1\n",
      "33    1        48.0      2.000000   53         Cola          4185      0\n",
      "34    0        29.0      1.000000   49         Cola          2884      0\n",
      "35    1        34.0      0.000000   12         Cola          2506      0\n",
      "36    0       100.0      5.000000   24        Water          9165      1\n",
      "37    1        96.0      4.000000   70        Fanta          1639      1\n",
      "38    1        50.0      4.000000   48        Fanta          8911      1\n",
      "39    1        45.0      2.476708   79     Beerbeer          3519      1\n",
      "40    0        42.0      5.000000   60     Beerbeer          1994      1\n",
      "41    0        29.0      5.000000   56         Cola          1522      1\n",
      "42    0        20.0      5.000000   72        Fanta          4966      0\n",
      "43    0         3.0      4.000000   29  Strong beer          4029      1\n",
      "44    0        18.0      1.000000   60        Water          4629      0\n",
      "45    0        96.0      3.000000   80     Beerbeer          1279      0\n",
      "46    0        89.0      3.000000   54     Beerbeer           567      1\n",
      "47    0        33.0      1.000000   66  Strong beer          3628      1\n",
      "48    1        31.0      0.000000   53        Fanta          9976      0\n",
      "49    0        30.0      3.000000   75        Fanta          2632      0\n"
     ]
    }
   ],
   "source": [
    "import numpy as np\n",
    "import pandas as pd\n",
    "\n",
    "df = pd.read_csv('titanic_with_labels.csv', sep=' ', index_col=0)\n",
    "\n",
    "df = df[(df['sex'] == 'Мужчина') | (df['sex'] == 'M') | (df['sex'] == 'м') | (df['sex'] == 'Ж') | (df['sex'] == 'ж')]\n",
    "df.reset_index(drop=True, inplace=True)\n",
    "df['sex'].replace({'Мужчина': 0, 'M': 0, 'м': 0, 'Ж': 1, 'ж': 1}, inplace=True)\n",
    "df['row_number'].fillna(df['row_number'].max(), inplace=True)\n",
    "df.loc[(df['liters_drunk'] < 0) | (df['liters_drunk'] > 5), 'liters_drunk'] = np.nan\n",
    "df['liters_drunk'].fillna(df['liters_drunk'].mean(), inplace=True)\n",
    "\n",
    "print(df.head(50))"
   ],
   "metadata": {
    "collapsed": false,
    "ExecuteTime": {
     "end_time": "2023-11-21T19:13:40.662896600Z",
     "start_time": "2023-11-21T19:13:40.625744300Z"
    }
   },
   "id": "1ef5b76353f17763"
  },
  {
   "cell_type": "markdown",
   "source": [
    "Лабораторная 5.2\n",
    "    4. Возраст (age): разделить на 3 группы: дети (до 18 лет), взрослые (18 - 50), пожилые (50+). закодировать в виде трёх столбцов с префиксом age_. Старый столбец с age удалить;\n",
    "    5. Напиток (drink): преобразовать в число 0/1 был ли этот напиток хмельным;\n",
    "    6. Номер чека (check_number): надо сопоставить со второй таблицей со временем сеанса. И закодировать в виде трёх столбцов, был ли это утренний (morning) сеанс, дневной (day) или вечерний (evening).\n",
    "\n"
   ],
   "metadata": {
    "collapsed": false
   },
   "id": "7319a543a2ddbbee"
  },
  {
   "cell_type": "code",
   "execution_count": 79,
   "outputs": [
    {
     "name": "stdout",
     "output_type": "stream",
     "text": [
      "      sex  row_number  liters_drunk  age  drink  check_number  label  age_kid  \\\n",
      "0       1        79.0           2.0   66      0          3116      0        0   \n",
      "1       0        23.0           0.0   10      0          8118      0        1   \n",
      "2       0        92.0           0.0   18      0          2264      1        0   \n",
      "3       1        52.0           5.0   67      1          7640      1        0   \n",
      "4       1        57.0           2.0   27      1          8764      0        0   \n",
      "...   ...         ...           ...  ...    ...           ...    ...      ...   \n",
      "6665    1       100.0           3.0   15      0          1022      1        1   \n",
      "6666    0        15.0           3.0   62      1          6510      0        0   \n",
      "6667    1        11.0           3.0   52      1          9510      1        0   \n",
      "6668    0        96.0           5.0   72      1          9554      0        0   \n",
      "6669    1        26.0           0.0   20      0          6198      1        0   \n",
      "\n",
      "      age_adult  age_elderly session_start  morning  day  evening  \n",
      "0             0            1      21:00:00        0    0        1  \n",
      "1             0            0      15:30:00        0    1        0  \n",
      "2             1            0      22:15:00        0    0        1  \n",
      "3             0            1      23:42:00        0    0        1  \n",
      "4             1            0      15:30:00        0    1        0  \n",
      "...         ...          ...           ...      ...  ...      ...  \n",
      "6665          0            0      15:00:00        0    1        0  \n",
      "6666          0            1      22:15:00        0    0        1  \n",
      "6667          0            1      22:15:00        0    0        1  \n",
      "6668          0            1      15:30:00        0    1        0  \n",
      "6669          1            0      08:42:00        1    0        0  \n",
      "\n",
      "[6670 rows x 14 columns]\n"
     ]
    }
   ],
   "source": [
    "import numpy as np\n",
    "import pandas as pd\n",
    "\n",
    "df = pd.read_csv('titanic_with_labels.csv', sep=' ', index_col=0)\n",
    "\n",
    "df = df[(df['sex'] == 'Мужчина') | (df['sex'] == 'M') | (df['sex'] == 'м') | (df['sex'] == 'Ж') | (df['sex'] == 'ж')]\n",
    "df.reset_index(drop=True, inplace=True)\n",
    "df['sex'].replace({'Мужчина': 0, 'M': 0, 'м': 0, 'Ж': 1, 'ж': 1}, inplace=True)\n",
    "df['row_number'].fillna(df['row_number'].max(), inplace=True)\n",
    "df.loc[(df['liters_drunk'] < 0) | (df['liters_drunk'] > 5), 'liters_drunk'] = np.nan\n",
    "df['liters_drunk'].fillna(df['liters_drunk'].mean(), inplace=True)\n",
    "\n",
    "df['age_kid'] = df['age'].apply(lambda x: int(x < 18))\n",
    "df['age_adult'] = df['age'].apply(lambda x: int(18 <= x <= 50))\n",
    "df['age_elderly'] = df['age'].apply(lambda x: int(x > 50))\n",
    "\n",
    "df['drink'] = df['drink'].apply(lambda x: int((\"пиво\" in x) | (\"beer\" in x)))\n",
    "\n",
    "df2 = pd.read_csv(\"cinema_sessions.csv\", sep=' ', index_col=0)\n",
    "df = df.merge(df2, on='check_number')\n",
    "df['session_start'] = pd.to_datetime(df['session_start'], format='%H:%M:%S.%f').dt.time\n",
    "df['morning'] = df['session_start'].apply(lambda x: int(6 <= x.hour < 12))\n",
    "df['day'] = df['session_start'].apply(lambda x: int(12 <= x.hour < 18))\n",
    "df['evening'] = df['session_start'].apply(lambda x: int(18 <= x.hour < 24))\n",
    "\n",
    "print(df)"
   ],
   "metadata": {
    "collapsed": false,
    "ExecuteTime": {
     "end_time": "2023-11-21T19:21:19.606230500Z",
     "start_time": "2023-11-21T19:21:19.537003100Z"
    }
   },
   "id": "3940b89fa21b7e6a"
  }
 ],
 "metadata": {
  "kernelspec": {
   "display_name": "Python 3",
   "language": "python",
   "name": "python3"
  },
  "language_info": {
   "codemirror_mode": {
    "name": "ipython",
    "version": 2
   },
   "file_extension": ".py",
   "mimetype": "text/x-python",
   "name": "python",
   "nbconvert_exporter": "python",
   "pygments_lexer": "ipython2",
   "version": "2.7.6"
  }
 },
 "nbformat": 4,
 "nbformat_minor": 5
}
