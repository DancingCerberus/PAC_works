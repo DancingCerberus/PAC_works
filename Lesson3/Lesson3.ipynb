{
 "cells": [
  {
   "cell_type": "markdown",
   "source": [
    "Лабораторная работа 3.1. ООП.\n",
    "   1. Реализовать два класса Pupa и Lupa. И класс Accountant.\n",
    "   2. Класс Accountant должен уметь одинаково успешно работать и с экземплярами класса Pupa и с экземплярами класса Lupa. У класса Accountant должен быть метод give_salary(worker). Который, получая на вход экземпляр классов Pupa или Lupa, вызывает у них метод take_salary(int). Необходимо придумать как реализовать такое поведение. Метод take_salary инкрементирует внутренний счётчик у каждого экземпляра класса на переданное ему значение.\n",
    "   3. При этом Pupa и Lupa два датасайнтиста и должны работать с матрицами. У них есть метод do_work(filename1, filename2). Pupa считывают из обоих переданных ему файлов по матрице и поэлементно их суммируют. Lupa считывают из обоих переданных ему файлов по матрице и поэлементно их вычитают. Работники обоих типов выводят результат своих трудов на экран."
   ],
   "metadata": {
    "collapsed": false
   },
   "id": "1b27f0c29e3ea383"
  },
  {
   "cell_type": "code",
   "execution_count": 50,
   "outputs": [],
   "source": [
    "def read_matrix(file, matrix):\n",
    "    f = open(file)\n",
    "    for line in f:\n",
    "        if line == '\\n':\n",
    "            break\n",
    "        matrix.append(list((map(int, line.split()))))\n",
    "        \n",
    "    f.close()\n",
    "\n",
    "\n",
    "class Worker:\n",
    "    def __init__(self, money=0, salary_size=300):\n",
    "        self.money = money\n",
    "        self.salary_size = salary_size\n",
    "\n",
    "    def take_salary(self):\n",
    "        self.money += self.salary_size\n",
    "\n",
    "    def do_work(self, filename1, filename2):\n",
    "        return\n",
    "\n",
    "\n",
    "class Pupa(Worker):\n",
    "    def __init__(self, money, salary_size):\n",
    "        super().__init__(money=money, salary_size=salary_size)\n",
    "\n",
    "\n",
    "    def do_work(self, filename1, filename2):\n",
    "        first_matrix = []\n",
    "        second_matrix = []\n",
    "        result_matrix = []\n",
    "        \n",
    "        read_matrix(filename1, first_matrix)\n",
    "        read_matrix(filename2, second_matrix)\n",
    "\n",
    "        for i in range(len(first_matrix)):\n",
    "            result_matrix.append([])\n",
    "            for j in range(len(second_matrix[0])):\n",
    "                result_matrix[i].append(0)\n",
    "                result_matrix[i][j] = first_matrix[i][j] + second_matrix[i][j]\n",
    "\n",
    "        res = open('result_pupa.txt', 'w')\n",
    "        for i in range(len(result_matrix)):\n",
    "            for j in range(len(result_matrix[0])):\n",
    "                res.write(str(result_matrix[i][j]) + ' ')\n",
    "            res.write('\\n')\n",
    "        res.close()\n",
    "\n",
    "\n",
    "class Lupa(Worker):\n",
    "    def __init__(self, money, salary_size):\n",
    "        super().__init__(money=money, salary_size=salary_size)\n",
    "\n",
    "    def do_work(self, filename1, filename2):\n",
    "        first_matrix = []\n",
    "        second_matrix = []\n",
    "        result_matrix = []\n",
    "        \n",
    "        read_matrix(filename1, first_matrix)\n",
    "        read_matrix(filename2, second_matrix)\n",
    "\n",
    "        for i in range(len(first_matrix)):\n",
    "            result_matrix.append([])\n",
    "            for j in range(len(second_matrix[0])):\n",
    "                result_matrix[i].append(0)\n",
    "                result_matrix[i][j] = first_matrix[i][j] - second_matrix[i][j]\n",
    "\n",
    "        res = open('result_lupa.txt', 'w')\n",
    "        for i in range(len(result_matrix)):\n",
    "            for j in range(len(result_matrix[0])):\n",
    "                res.write(str(result_matrix[i][j]) + ' ')\n",
    "            res.write('\\n')\n",
    "        res.close()\n",
    "\n",
    "\n",
    "class Accountant:\n",
    "    @staticmethod\n",
    "    def give_salary(worker):\n",
    "        worker.take_salary()\n",
    "\n"
   ],
   "metadata": {
    "collapsed": false,
    "ExecuteTime": {
     "end_time": "2023-09-27T07:13:39.770635Z",
     "start_time": "2023-09-27T07:13:39.754884500Z"
    }
   },
   "id": "3bc4286085c0745a"
  },
  {
   "cell_type": "code",
   "execution_count": 51,
   "outputs": [
    {
     "name": "stdout",
     "output_type": "stream",
     "text": [
      "Теперь у Лупы 300 денег\n",
      "А у Пупы - 300 денег\n"
     ]
    }
   ],
   "source": [
    "accountant = Accountant\n",
    "lupa = Lupa(100, 200)\n",
    "pupa = Pupa(0, 300)\n",
    "\n",
    "pupa.do_work('matrix1.txt', 'matrix2.txt')\n",
    "accountant.give_salary(lupa)\n",
    "print(f'Теперь у Лупы {lupa.money} денег')\n",
    "\n",
    "lupa.do_work('matrix1.txt', 'matrix2.txt')\n",
    "accountant.give_salary(pupa)\n",
    "print(f'А у Пупы - {pupa.money} денег')\n"
   ],
   "metadata": {
    "collapsed": false,
    "ExecuteTime": {
     "end_time": "2023-09-27T07:13:45.028848500Z",
     "start_time": "2023-09-27T07:13:45.012188400Z"
    }
   },
   "id": "6640d7bff73ecbdc"
  },
  {
   "cell_type": "code",
   "execution_count": null,
   "outputs": [],
   "source": [],
   "metadata": {
    "collapsed": false
   },
   "id": "967c594653ad78cc"
  }
 ],
 "metadata": {
  "kernelspec": {
   "display_name": "Python 3",
   "language": "python",
   "name": "python3"
  },
  "language_info": {
   "codemirror_mode": {
    "name": "ipython",
    "version": 2
   },
   "file_extension": ".py",
   "mimetype": "text/x-python",
   "name": "python",
   "nbconvert_exporter": "python",
   "pygments_lexer": "ipython2",
   "version": "2.7.6"
  }
 },
 "nbformat": 4,
 "nbformat_minor": 5
}
