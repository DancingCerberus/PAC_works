{
 "cells": [
  {
   "cell_type": "code",
   "execution_count": 2,
   "outputs": [
    {
     "data": {
      "text/plain": "27"
     },
     "execution_count": 2,
     "metadata": {},
     "output_type": "execute_result"
    },
    {
     "data": {
      "text/plain": "<Figure size 1000x600 with 0 Axes>"
     },
     "metadata": {},
     "output_type": "display_data"
    }
   ],
   "source": [
    "import cv2\n",
    "import matplotlib.pyplot as plt\n",
    "import numpy as np\n",
    "\n",
    "img1 = cv2.imread('lab7.png')\n",
    "img2 = cv2.imread('candy_ghost.png')\n",
    "\n",
    "sift = cv2.SIFT_create()\n",
    "\n",
    "keypoints_1, descriptors_1 = sift.detectAndCompute(img1, None)\n",
    "keypoints_2, descriptors_2 = sift.detectAndCompute(img2, None)\n",
    "\n",
    "bf = cv2.BFMatcher(cv2.NORM_L1, crossCheck=True)\n",
    "matches = bf.match(descriptors_2, descriptors_1)\n",
    "matches = sorted(matches, key=lambda x: x.distance)\n",
    "\n",
    "src_pts = np.float32([keypoints_2[m.queryIdx].pt for m in matches]).reshape(-1, 1, 2)\n",
    "dst_pts = np.float32([keypoints_1[m.trainIdx].pt for m in matches]).reshape(-1, 1, 2)\n",
    "\n",
    "homography, _ = cv2.findHomography(src_pts, dst_pts, cv2.RANSAC, 5.0)\n",
    "\n",
    "h = img2.shape[0]\n",
    "w = img2.shape[1]\n",
    "\n",
    "pts = np.float32([[0, 0], [0, h - 1], [w - 1, h - 1], [w - 1, 0]]).reshape(-1, 1, 2)\n",
    "dst = cv2.perspectiveTransform(pts, homography)\n",
    "\n",
    "result = cv2.polylines(img1, [np.int32(dst)], True, (0, 255, 0), cv2.LINE_4)\n",
    "\n",
    "plt.figure(figsize=(10, 6))\n",
    "cv2.imshow(\"ghosts\", result)\n",
    "cv2.waitKey()"
   ],
   "metadata": {
    "collapsed": false,
    "ExecuteTime": {
     "end_time": "2023-10-25T14:47:58.212783Z",
     "start_time": "2023-10-25T14:47:56.295550200Z"
    }
   },
   "id": "141d7fd1f4c5d0ad"
  },
  {
   "cell_type": "code",
   "execution_count": null,
   "outputs": [],
   "source": [],
   "metadata": {
    "collapsed": false
   },
   "id": "f384f107615ee5dd"
  }
 ],
 "metadata": {
  "kernelspec": {
   "display_name": "Python 3",
   "language": "python",
   "name": "python3"
  },
  "language_info": {
   "codemirror_mode": {
    "name": "ipython",
    "version": 2
   },
   "file_extension": ".py",
   "mimetype": "text/x-python",
   "name": "python",
   "nbconvert_exporter": "python",
   "pygments_lexer": "ipython2",
   "version": "2.7.6"
  }
 },
 "nbformat": 4,
 "nbformat_minor": 5
}
