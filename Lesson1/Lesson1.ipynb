{
 "cells": [
  {
   "cell_type": "markdown",
   "id": "bd54d7ab",
   "metadata": {},
   "source": [
    "1. ✔️ Сгенерировать случайное трехзначное число. Вычислить сумму его цифр."
   ]
  },
  {
   "cell_type": "code",
   "execution_count": 4,
   "id": "dfce9c97",
   "metadata": {
    "scrolled": true
   },
   "outputs": [
    {
     "name": "stdout",
     "output_type": "stream",
     "text": [
      "545\n",
      "Digits sum = 14\n"
     ]
    }
   ],
   "source": [
    "from random import *\n",
    "from math import *\n",
    "\n",
    "random_three_digit = randint(100, 999)\n",
    "print(random_three_digit)\n",
    "\n",
    "digits = map(int, list(str(random_three_digit)))\n",
    "\n",
    "digit_sum = sum(digits)\n",
    "print('Digits sum =', digit_sum)\n",
    "\n"
   ]
  },
  {
   "cell_type": "markdown",
   "id": "43dafccc",
   "metadata": {},
   "source": [
    "2. ✔️ Сгенерировать случайное число. Вычислить сумму его цифр."
   ]
  },
  {
   "cell_type": "code",
   "execution_count": 7,
   "id": "54c38298",
   "metadata": {},
   "outputs": [
    {
     "name": "stdout",
     "output_type": "stream",
     "text": [
      "4127\n",
      "Digits sum = 14\n"
     ]
    }
   ],
   "source": [
    "from random import *\n",
    "from math import *\n",
    "\n",
    "random_num = randint(0, 10000)\n",
    "print(random_num)\n",
    "\n",
    "digits = map(int, list(str(random_num)))\n",
    "\n",
    "digit_sum = sum(digits)\n",
    "print('Digits sum =', digit_sum)\n",
    "\n"
   ]
  },
  {
   "cell_type": "markdown",
   "id": "6809e7e2",
   "metadata": {},
   "source": [
    "3. ✔️ Задаётся радиус сферы, найти площадь её поверхности и объём."
   ]
  },
  {
   "cell_type": "code",
   "execution_count": 8,
   "id": "c8a4b9dd",
   "metadata": {},
   "outputs": [
    {
     "name": "stdout",
     "output_type": "stream",
     "text": [
      "10\n",
      "1256.6370614359173\n",
      "4188.790204786391\n"
     ]
    }
   ],
   "source": [
    "from math import *\n",
    "\n",
    "radius = int(input())\n",
    "\n",
    "s = 4 * pi * (radius ** 2)\n",
    "v = 4 / 3 * pi * (radius ** 3)\n",
    "\n",
    "print(s)\n",
    "print(v)"
   ]
  },
  {
   "cell_type": "markdown",
   "id": "9ff740ab",
   "metadata": {},
   "source": [
    "4. ✔️ Задаётся год. Определить, является ли он високосным."
   ]
  },
  {
   "cell_type": "code",
   "execution_count": 3,
   "id": "41a09bd4",
   "metadata": {},
   "outputs": [
    {
     "name": "stdout",
     "output_type": "stream",
     "text": [
      "2016\n",
      "True\n"
     ]
    }
   ],
   "source": [
    "year = int(input())\n",
    "\n",
    "if (year % 4 == 0) and (year % 100 != 0) or (year % 100 == 0 and year % 400 == 0):\n",
    "    isLeap = True\n",
    "else:\n",
    "    isLeap = False\n",
    "    \n",
    "print(isLeap)"
   ]
  },
  {
   "cell_type": "markdown",
   "id": "3bd362b5",
   "metadata": {},
   "source": [
    "5. ✔️ Определить все числа из диапазона 1, N, являющиеся простыми."
   ]
  },
  {
   "cell_type": "code",
   "execution_count": 2,
   "id": "59116657",
   "metadata": {},
   "outputs": [
    {
     "name": "stdout",
     "output_type": "stream",
     "text": [
      "100\n",
      "[2, 3, 5, 7, 11, 13, 17, 19, 23, 29, 31, 37, 41, 43, 47, 53, 59, 61, 67, 71, 73, 79, 83, 89, 97]\n"
     ]
    }
   ],
   "source": [
    "def isPrime(n):\n",
    "    if n == 2 or n == 3:\n",
    "        return True\n",
    "    if n % 2 == 0 or n < 2:\n",
    "        return False\n",
    "    for i in range(3, int(n ** 0.5) + 1, 2):\n",
    "        if n % i == 0:\n",
    "            return False    \n",
    "\n",
    "    return True\n",
    "    \n",
    "    \n",
    "n = int(input())\n",
    "primes = list()\n",
    "for i in range(1, n + 1):\n",
    "    if isPrime(i):\n",
    "        primes.append(i)\n",
    "        \n",
    "print(primes)"
   ]
  },
  {
   "cell_type": "markdown",
   "id": "d7c607cd",
   "metadata": {},
   "source": [
    "6. ✔️ Пользователь делает вклад в размере X рублей сроком на Y лет под 10% годовых (каждый год размер его вклада увеличивается на 10%. Эти деньги прибавляются к сумме вклада, и на них в следующем году тоже будут проценты). Вычислить сумму, которая будет на счету пользователя."
   ]
  },
  {
   "cell_type": "code",
   "execution_count": 1,
   "id": "9483bb22",
   "metadata": {},
   "outputs": [
    {
     "name": "stdout",
     "output_type": "stream",
     "text": [
      "Введите размер вклада\n",
      "1000\n",
      "Введите срок вклада\n",
      "4\n",
      "1464.1000000000001\n"
     ]
    }
   ],
   "source": [
    "print('Введите размер вклада')\n",
    "deposit = int(input())\n",
    "\n",
    "print('Введите срок вклада')\n",
    "\n",
    "duration = int(input())\n",
    "\n",
    "for i in range (1, duration + 1):\n",
    "    deposit *= 1.1\n",
    "    \n",
    "print(deposit)\n"
   ]
  },
  {
   "cell_type": "markdown",
   "id": "bb85ebc2",
   "metadata": {},
   "source": [
    "7. ✔️ Вывести все файлы, находящиеся в папке и её подпапках с помощью их абсолютных имён. Имя папки задаётся абсолютным или относительным именем. (можно использовать os.walk())"
   ]
  },
  {
   "cell_type": "code",
   "execution_count": 12,
   "id": "3aafccae",
   "metadata": {},
   "outputs": [
    {
     "name": "stdout",
     "output_type": "stream",
     "text": [
      "['4Playtgound', '5Agitation', 'a', 'bubble_sort', 'event_formatter', 'kontur', 'lesson1']\n",
      "4Playtgound : ['1Painter', '2Collectioner', '3Oderjimy', '5NiceGardener', 'a', 'event_formatter', 'sociableMan', 'venv']\n",
      "5Agitation : ['.idea', 'venv']\n",
      "a : ['.idea', 'main.py']\n",
      "bubble_sort : ['.idea', 'main.py']\n",
      "event_formatter : ['.idea', 'events.md', 'events_numbers.txt', 'main.py']\n",
      "kontur : ['1IndMath', '1Painter', '2Collectioner', '2missingNumber', '3Oderjimy', '3PremierLeague', '4Playground', '4Playtgound', '5Agitation', '5NiceGardener', 'sociableMan']\n",
      "lesson1 : ['.gitignore', '.idea', 'Lib', 'pyvenv.cfg', 'Scripts']\n"
     ]
    }
   ],
   "source": [
    "import os\n",
    "\n",
    "directory = 'D:\\PycharmProjects'\n",
    "\n",
    "files = os.listdir(directory)\n",
    "\n",
    "print(files)\n",
    "\n",
    "for file in files:\n",
    "    inner_files = os.listdir(directory + '\\\\' + file)\n",
    "    print(file,':', inner_files)"
   ]
  },
  {
   "cell_type": "markdown",
   "id": "1f3e72a2",
   "metadata": {},
   "source": [
    "✔️ Лабораторная работа 1.1. Пузырьковая сортировка.\n",
    "Реализовать скрипт bubble_sort.py\n",
    "\n",
    "Входные параметры скрипта: целое число = длина списка Выходные значения: выводит отсортированный список на экран\n",
    "\n",
    "Что должен делать скрипт:\n",
    "\n",
    "1. Распарсить входные параметры скрипта с помощью argparse\n",
    "2. Создать список случайных значений от 0 до 1 длины N (подаётся в качестве входного значения скрипта, получается в пункте 1)\n",
    "3. Реализовать пузырьковую сортировку с помощью операторов for и if. Никаких sorted!\n",
    "4. Вывести значения на экран\n",
    "(в Jupyter не работает)"
   ]
  },
  {
   "cell_type": "code",
   "execution_count": 2,
   "id": "3528dc80",
   "metadata": {},
   "outputs": [
    {
     "name": "stderr",
     "output_type": "stream",
     "text": [
      "usage: bubble_sort [-h] [-n NUM]\n",
      "bubble_sort: error: unrecognized arguments: -f C:\\Users\\Eduard\\AppData\\Roaming\\jupyter\\runtime\\kernel-c6c829af-6fe6-4f32-a27e-3e1125085a62.json\n"
     ]
    },
    {
     "ename": "SystemExit",
     "evalue": "2",
     "output_type": "error",
     "traceback": [
      "An exception has occurred, use %tb to see the full traceback.\n",
      "\u001b[1;31mSystemExit\u001b[0m\u001b[1;31m:\u001b[0m 2\n"
     ]
    }
   ],
   "source": [
    "import argparse\n",
    "from random import *\n",
    "\n",
    "\n",
    "def bubble_sort(ls):\n",
    "    n = len(ls)\n",
    "    swapped = False\n",
    "    for i in range(n - 1):\n",
    "        for j in range(0, n - i - 1):\n",
    "            if arr[j] > arr[j + 1]:\n",
    "                swapped = True\n",
    "                arr[j], arr[j + 1] = arr[j + 1], arr[j]\n",
    "        if not swapped:\n",
    "            return\n",
    "\n",
    "\n",
    "parser = argparse.ArgumentParser(\n",
    "    prog='bubble_sort',\n",
    "    description='command-line bubblesort script',\n",
    "    epilog='idk')\n",
    "\n",
    "parser.add_argument(\"-n\", \"--num\", type=int)\n",
    "\n",
    "args = parser.parse_args()\n",
    "arr = []\n",
    "for i in range(args.num):\n",
    "    arr.append(random())\n",
    "print(arr)\n",
    "\n",
    "bubble_sort(arr)\n",
    "print(arr)\n"
   ]
  },
  {
   "cell_type": "code",
   "execution_count": null,
   "id": "a84135a6",
   "metadata": {},
   "outputs": [],
   "source": []
  }
 ],
 "metadata": {
  "kernelspec": {
   "display_name": "Python 3 (ipykernel)",
   "language": "python",
   "name": "python3"
  },
  "language_info": {
   "codemirror_mode": {
    "name": "ipython",
    "version": 3
   },
   "file_extension": ".py",
   "mimetype": "text/x-python",
   "name": "python",
   "nbconvert_exporter": "python",
   "pygments_lexer": "ipython3",
   "version": "3.11.4"
  }
 },
 "nbformat": 4,
 "nbformat_minor": 5
}
