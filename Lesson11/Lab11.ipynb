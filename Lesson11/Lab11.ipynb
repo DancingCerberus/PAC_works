{
 "cells": [
  {
   "cell_type": "code",
   "execution_count": 4,
   "id": "initial_id",
   "metadata": {
    "collapsed": true,
    "ExecuteTime": {
     "end_time": "2023-12-23T14:43:55.505623900Z",
     "start_time": "2023-12-23T14:43:55.483707Z"
    }
   },
   "outputs": [
    {
     "data": {
      "text/plain": "False"
     },
     "execution_count": 4,
     "metadata": {},
     "output_type": "execute_result"
    }
   ],
   "source": [
    "import torch\n",
    "import torch.nn as nn\n",
    "\n",
    "\n",
    "torch.cuda.is_available()"
   ]
  },
  {
   "cell_type": "markdown",
   "source": [
    "   1. С помощью библиотеки torch реализовать модель с прямым проходом, состоящую из 3 полносвязных слоёв с функциями потерь: Sigmoid, tanh, Softmax. Длины векторов на входе 256, на выходе 4, промежуточные: 64 и 16. Использовать barebone подход.\n",
    "   2. Реализовать обратное распространение ошибки. Использовать barebone подход."
   ],
   "metadata": {
    "collapsed": false
   },
   "id": "131fdff513a92242"
  },
  {
   "cell_type": "code",
   "outputs": [
    {
     "name": "stdout",
     "output_type": "stream",
     "text": [
      "Прямой проход: tensor([[0.2405, 0.2151, 0.2946, 0.2498]], grad_fn=<SoftmaxBackward0>)\n",
      "Значение функции потерь: 1.3869199752807617\n",
      "Веса после обновления: Parameter containing:\n",
      "tensor([[-0.0307,  0.0217,  0.0148,  ..., -0.0101,  0.0308,  0.0035],\n",
      "        [-0.0128, -0.0524, -0.0295,  ...,  0.0207,  0.0073, -0.0145],\n",
      "        [ 0.0527,  0.0150, -0.0315,  ..., -0.0352,  0.0352,  0.0354],\n",
      "        ...,\n",
      "        [-0.0375, -0.0047, -0.0594,  ..., -0.0394, -0.0535, -0.0472],\n",
      "        [-0.0449, -0.0351,  0.0531,  ...,  0.0245,  0.0238, -0.0171],\n",
      "        [ 0.0439, -0.0383, -0.0058,  ..., -0.0370, -0.0153,  0.0304]],\n",
      "       requires_grad=True)\n"
     ]
    }
   ],
   "source": [
    "import torch.optim as optim\n",
    "\n",
    "\n",
    "class Model(nn.Module):\n",
    "    def __init__(self):\n",
    "        super().__init__()\n",
    "        self.fc1 = nn.Linear(256, 64)\n",
    "        self.sigmoid = nn.Sigmoid()\n",
    "        self.fc2 = nn.Linear(64, 16)\n",
    "        self.tanh = nn.Tanh()\n",
    "        self.fc3 = nn.Linear(16, 4)\n",
    "        self.softmax = nn.Softmax(dim=1)\n",
    "        \n",
    "    def forward(self, x):\n",
    "        h = self.fc1(x)\n",
    "        h = self.sigmoid(h)\n",
    "        h = self.fc2(h)\n",
    "        h = self.tanh(h)\n",
    "        h = self.fc3(h)\n",
    "        y = self.softmax(h)\n",
    "        return y\n",
    "    \n",
    "model = Model()\n",
    "\n",
    "input_data = torch.randn(1, 256)\n",
    "output = model(input_data)\n",
    "print(\"Прямой проход:\", output)\n",
    "\n",
    "target = torch.randint(0, 4, (1,))\n",
    "criterion = nn.CrossEntropyLoss()\n",
    "\n",
    "loss = criterion(output, target)\n",
    "print(\"Значение функции потерь:\", loss.item())\n",
    "\n",
    "optimizer = optim.SGD(model.parameters(), lr=0.01)\n",
    "optimizer.zero_grad()\n",
    "\n",
    "loss.backward()\n",
    "optimizer.step()\n",
    "\n",
    "print(\"Веса после обновления:\", model.fc1.weight)   "
   ],
   "metadata": {
    "collapsed": false,
    "ExecuteTime": {
     "end_time": "2023-12-23T15:18:42.872383700Z",
     "start_time": "2023-12-23T15:18:42.859678700Z"
    }
   },
   "id": "468f2a1797a68d09",
   "execution_count": 7
  }
 ],
 "metadata": {
  "kernelspec": {
   "display_name": "Python 3",
   "language": "python",
   "name": "python3"
  },
  "language_info": {
   "codemirror_mode": {
    "name": "ipython",
    "version": 2
   },
   "file_extension": ".py",
   "mimetype": "text/x-python",
   "name": "python",
   "nbconvert_exporter": "python",
   "pygments_lexer": "ipython2",
   "version": "2.7.6"
  }
 },
 "nbformat": 4,
 "nbformat_minor": 5
}
